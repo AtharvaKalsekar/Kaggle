{
  "nbformat": 4,
  "nbformat_minor": 0,
  "metadata": {
    "colab": {
      "name": "titanic.ipynb",
      "version": "0.3.2",
      "provenance": [],
      "collapsed_sections": []
    },
    "kernelspec": {
      "name": "python3",
      "display_name": "Python 3"
    }
  },
  "cells": [
    {
      "cell_type": "code",
      "metadata": {
        "id": "wz7iAM07uwBL",
        "colab_type": "code",
        "outputId": "fa4aa871-55a3-4961-f8a6-61ca81880ceb",
        "colab": {
          "base_uri": "https://localhost:8080/",
          "height": 68
        }
      },
      "source": [
        "#Load Train dataset\n",
        "import pandas as pd\n",
        "train_data = pd.read_csv(\"https://raw.githubusercontent.com/AtharvaKalsekar/Kaggle/master/titanic/train.csv\")\n",
        "print(train_data.columns)"
      ],
      "execution_count": 1,
      "outputs": [
        {
          "output_type": "stream",
          "text": [
            "Index(['PassengerId', 'Survived', 'Pclass', 'Name', 'Sex', 'Age', 'SibSp',\n",
            "       'Parch', 'Ticket', 'Fare', 'Cabin', 'Embarked'],\n",
            "      dtype='object')\n"
          ],
          "name": "stdout"
        }
      ]
    },
    {
      "cell_type": "code",
      "metadata": {
        "id": "4OwxO1ED_HUd",
        "colab_type": "code",
        "colab": {}
      },
      "source": [
        "print(train_data.dtypes)"
      ],
      "execution_count": 0,
      "outputs": []
    },
    {
      "cell_type": "code",
      "metadata": {
        "id": "ri1PNWQG_7RY",
        "colab_type": "code",
        "outputId": "a978c294-76bf-4775-dce4-1bfdb96f8533",
        "colab": {
          "base_uri": "https://localhost:8080/",
          "height": 153
        }
      },
      "source": [
        "train_data.drop(columns=[\"PassengerId\",\"Name\",\"Ticket\",\"Cabin\",\"Embarked\"],inplace=True)\n",
        "print(train_data.dtypes)"
      ],
      "execution_count": 2,
      "outputs": [
        {
          "output_type": "stream",
          "text": [
            "Survived      int64\n",
            "Pclass        int64\n",
            "Sex          object\n",
            "Age         float64\n",
            "SibSp         int64\n",
            "Parch         int64\n",
            "Fare        float64\n",
            "dtype: object\n"
          ],
          "name": "stdout"
        }
      ]
    },
    {
      "cell_type": "code",
      "metadata": {
        "id": "OWvjjXnWJkAf",
        "colab_type": "code",
        "outputId": "17c44128-26b1-4345-e9c8-9886ab023e9d",
        "colab": {
          "base_uri": "https://localhost:8080/",
          "height": 153
        }
      },
      "source": [
        "#Check for missing values\n",
        "train_data.isnull().any()"
      ],
      "execution_count": 3,
      "outputs": [
        {
          "output_type": "execute_result",
          "data": {
            "text/plain": [
              "Survived    False\n",
              "Pclass      False\n",
              "Sex         False\n",
              "Age          True\n",
              "SibSp       False\n",
              "Parch       False\n",
              "Fare        False\n",
              "dtype: bool"
            ]
          },
          "metadata": {
            "tags": []
          },
          "execution_count": 3
        }
      ]
    },
    {
      "cell_type": "code",
      "metadata": {
        "id": "UtgjzHuoDFZU",
        "colab_type": "code",
        "colab": {}
      },
      "source": [
        "# Get the numpy arrays for independent and target variables\n",
        "import numpy as np\n",
        "X = train_data.iloc[:,1:].values\n",
        "y = train_data.iloc[:,0].values"
      ],
      "execution_count": 0,
      "outputs": []
    },
    {
      "cell_type": "code",
      "metadata": {
        "id": "8rvT980JhHJB",
        "colab_type": "code",
        "outputId": "eee98eaa-7b99-4fc0-8f85-4f642078456d",
        "colab": {
          "base_uri": "https://localhost:8080/",
          "height": 51
        }
      },
      "source": [
        "print(X.shape)\n",
        "print(y.shape)"
      ],
      "execution_count": 5,
      "outputs": [
        {
          "output_type": "stream",
          "text": [
            "(891, 6)\n",
            "(891,)\n"
          ],
          "name": "stdout"
        }
      ]
    },
    {
      "cell_type": "code",
      "metadata": {
        "id": "9JAoxo8VEEAw",
        "colab_type": "code",
        "colab": {}
      },
      "source": [
        "# Label encoding the strings\n",
        "from sklearn.preprocessing import LabelEncoder\n",
        "le = LabelEncoder()\n",
        "X[:,1] = le.fit_transform(X[:,1])"
      ],
      "execution_count": 0,
      "outputs": []
    },
    {
      "cell_type": "code",
      "metadata": {
        "id": "zMqLVFdfF6nk",
        "colab_type": "code",
        "colab": {
          "base_uri": "https://localhost:8080/",
          "height": 241
        },
        "outputId": "75fadebd-b2a5-492b-e6b4-8f21c9c740c8"
      },
      "source": [
        "#treat missing values for columns obtained from dataframe.isnull().any()\n",
        "from fancyimpute import KNN\n",
        "impt=KNN(k=5)\n",
        "X=impt.fit_transform(X)"
      ],
      "execution_count": 7,
      "outputs": [
        {
          "output_type": "stream",
          "text": [
            "/usr/local/lib/python3.6/dist-packages/sklearn/externals/six.py:31: DeprecationWarning: The module is deprecated in version 0.21 and will be removed in version 0.23 since we've dropped support for Python 2.7. Please rely on the official version of six (https://pypi.org/project/six/).\n",
            "  \"(https://pypi.org/project/six/).\", DeprecationWarning)\n",
            "Using TensorFlow backend.\n"
          ],
          "name": "stderr"
        },
        {
          "output_type": "stream",
          "text": [
            "Imputing row 1/891 with 0 missing, elapsed time: 0.136\n",
            "Imputing row 101/891 with 0 missing, elapsed time: 0.138\n",
            "Imputing row 201/891 with 0 missing, elapsed time: 0.139\n",
            "Imputing row 301/891 with 1 missing, elapsed time: 0.140\n",
            "Imputing row 401/891 with 0 missing, elapsed time: 0.141\n",
            "Imputing row 501/891 with 0 missing, elapsed time: 0.142\n",
            "Imputing row 601/891 with 0 missing, elapsed time: 0.143\n",
            "Imputing row 701/891 with 0 missing, elapsed time: 0.144\n",
            "Imputing row 801/891 with 0 missing, elapsed time: 0.145\n"
          ],
          "name": "stdout"
        }
      ]
    },
    {
      "cell_type": "code",
      "metadata": {
        "id": "he5gkgTzKw5L",
        "colab_type": "code",
        "colab": {}
      },
      "source": [
        "#scale the data\n",
        "from sklearn.preprocessing import StandardScaler\n",
        "sc = StandardScaler()\n",
        "X = sc.fit_transform(X)"
      ],
      "execution_count": 0,
      "outputs": []
    },
    {
      "cell_type": "code",
      "metadata": {
        "id": "QI7TZ-UfMvSF",
        "colab_type": "code",
        "colab": {}
      },
      "source": [
        "#Spliting train and validation sets\n",
        "from sklearn.model_selection import train_test_split\n",
        "X_train, X_val, y_train, y_val = train_test_split(X,y,test_size = 0.25, random_state=0, stratify=y)"
      ],
      "execution_count": 0,
      "outputs": []
    },
    {
      "cell_type": "code",
      "metadata": {
        "id": "2r39_730hab2",
        "colab_type": "code",
        "outputId": "ae4e9564-4977-43a7-eab0-773ca030b297",
        "colab": {
          "base_uri": "https://localhost:8080/",
          "height": 51
        }
      },
      "source": [
        "print(X_train.shape)\n",
        "print(y_train.shape)"
      ],
      "execution_count": 10,
      "outputs": [
        {
          "output_type": "stream",
          "text": [
            "(623, 6)\n",
            "(623,)\n"
          ],
          "name": "stdout"
        }
      ]
    },
    {
      "cell_type": "code",
      "metadata": {
        "id": "61Xsi2r3N5JB",
        "colab_type": "code",
        "colab": {}
      },
      "source": [
        "#PCA\n",
        "from sklearn.decomposition import KernelPCA\n",
        "pca = KernelPCA(n_components=4, kernel=\"rbf\")\n",
        "X_train = pca.fit_transform(X_train)\n",
        "X_val = pca.transform(X_val)"
      ],
      "execution_count": 0,
      "outputs": []
    },
    {
      "cell_type": "code",
      "metadata": {
        "id": "U65pXxR4Knyc",
        "colab_type": "code",
        "colab": {
          "base_uri": "https://localhost:8080/",
          "height": 51
        },
        "outputId": "544201fb-fd1a-4767-f1ff-d8920e249f79"
      },
      "source": [
        "print(X_train.shape)\n",
        "print(X_val.shape)"
      ],
      "execution_count": 42,
      "outputs": [
        {
          "output_type": "stream",
          "text": [
            "(668, 4)\n",
            "(223, 4)\n"
          ],
          "name": "stdout"
        }
      ]
    },
    {
      "cell_type": "code",
      "metadata": {
        "id": "KYkUgu6_ZEa7",
        "colab_type": "code",
        "colab": {}
      },
      "source": [
        "#load model KNN\n",
        "from sklearn.neighbors import KNeighborsClassifier\n",
        "model = KNeighborsClassifier(n_neighbors = 5, p = 2, metric = \"minkowski\")"
      ],
      "execution_count": 0,
      "outputs": []
    },
    {
      "cell_type": "code",
      "metadata": {
        "id": "5YNTBK7uJkfT",
        "colab_type": "code",
        "colab": {}
      },
      "source": [
        "#load model naive bayes\n",
        "from sklearn.naive_bayes import GaussianNB\n",
        "model = GaussianNB()"
      ],
      "execution_count": 0,
      "outputs": []
    },
    {
      "cell_type": "code",
      "metadata": {
        "id": "tZojwwm6K8Se",
        "colab_type": "code",
        "colab": {}
      },
      "source": [
        "#load model random forest\n",
        "from sklearn.ensemble import RandomForestClassifier\n",
        "model = RandomForestClassifier(n_estimators = 20, criterion = 'entropy', random_state = 0)"
      ],
      "execution_count": 0,
      "outputs": []
    },
    {
      "cell_type": "code",
      "metadata": {
        "id": "bBG3XPzKZnF3",
        "colab_type": "code",
        "outputId": "745c81af-27cc-4eff-aecc-8d3d84008798",
        "colab": {
          "base_uri": "https://localhost:8080/",
          "height": 136
        }
      },
      "source": [
        "#fit model\n",
        "model.fit(X_train, y_train)"
      ],
      "execution_count": 47,
      "outputs": [
        {
          "output_type": "execute_result",
          "data": {
            "text/plain": [
              "RandomForestClassifier(bootstrap=True, class_weight=None, criterion='entropy',\n",
              "                       max_depth=None, max_features='auto', max_leaf_nodes=None,\n",
              "                       min_impurity_decrease=0.0, min_impurity_split=None,\n",
              "                       min_samples_leaf=1, min_samples_split=2,\n",
              "                       min_weight_fraction_leaf=0.0, n_estimators=20,\n",
              "                       n_jobs=None, oob_score=False, random_state=0, verbose=0,\n",
              "                       warm_start=False)"
            ]
          },
          "metadata": {
            "tags": []
          },
          "execution_count": 47
        }
      ]
    },
    {
      "cell_type": "code",
      "metadata": {
        "id": "HesijcCCZ2AB",
        "colab_type": "code",
        "outputId": "e265f1b9-9d14-4073-e2d7-4cdf3e3f7e57",
        "colab": {
          "base_uri": "https://localhost:8080/",
          "height": 34
        }
      },
      "source": [
        "#Evaluate model\n",
        "from sklearn.model_selection import cross_val_score\n",
        "acc = cross_val_score(estimator = model, X = X_train, y = y_train, cv=10)\n",
        "print(acc.mean())"
      ],
      "execution_count": 50,
      "outputs": [
        {
          "output_type": "stream",
          "text": [
            "0.7677089153164658\n"
          ],
          "name": "stdout"
        }
      ]
    },
    {
      "cell_type": "code",
      "metadata": {
        "id": "G8Hv400qBaD4",
        "colab_type": "code",
        "outputId": "3107f7d5-7303-45fa-ad9e-fbcc5fbf8057",
        "colab": {
          "base_uri": "https://localhost:8080/",
          "height": 221
        }
      },
      "source": [
        "#Processing test data\n",
        "test_data = pd.read_csv(\"https://raw.githubusercontent.com/AtharvaKalsekar/Kaggle/master/titanic/test.csv\")\n",
        "print(test_data.dtypes)"
      ],
      "execution_count": 0,
      "outputs": [
        {
          "output_type": "stream",
          "text": [
            "PassengerId      int64\n",
            "Pclass           int64\n",
            "Name            object\n",
            "Sex             object\n",
            "Age            float64\n",
            "SibSp            int64\n",
            "Parch            int64\n",
            "Ticket          object\n",
            "Fare           float64\n",
            "Cabin           object\n",
            "Embarked        object\n",
            "dtype: object\n"
          ],
          "name": "stdout"
        }
      ]
    },
    {
      "cell_type": "code",
      "metadata": {
        "id": "ZObcunETCz5t",
        "colab_type": "code",
        "colab": {}
      },
      "source": [
        "testset_ids = test_data[[\"PassengerId\"]]\n",
        "testset = test_data.drop(columns = [\"PassengerId\",\"Name\",\"Ticket\",\"Cabin\",\"Embarked\"])"
      ],
      "execution_count": 0,
      "outputs": []
    },
    {
      "cell_type": "code",
      "metadata": {
        "id": "_J8IV0vNgL_j",
        "colab_type": "code",
        "outputId": "7ae51e9d-f646-4a70-df4e-a089c2977fd8",
        "colab": {
          "base_uri": "https://localhost:8080/",
          "height": 34
        }
      },
      "source": [
        "testset.columns"
      ],
      "execution_count": 0,
      "outputs": [
        {
          "output_type": "execute_result",
          "data": {
            "text/plain": [
              "Index(['Pclass', 'Sex', 'Age', 'SibSp', 'Parch', 'Fare'], dtype='object')"
            ]
          },
          "metadata": {
            "tags": []
          },
          "execution_count": 85
        }
      ]
    },
    {
      "cell_type": "code",
      "metadata": {
        "id": "GEnwvm3FgQS0",
        "colab_type": "code",
        "colab": {}
      },
      "source": [
        "testset.describe"
      ],
      "execution_count": 0,
      "outputs": []
    },
    {
      "cell_type": "code",
      "metadata": {
        "id": "qfaUt9-4cnAh",
        "colab_type": "code",
        "outputId": "a2bbd3fe-ecaa-4d55-eb5a-85e86a216e84",
        "colab": {
          "base_uri": "https://localhost:8080/",
          "height": 136
        }
      },
      "source": [
        "#check for missing values\n",
        "testset.isnull().any()"
      ],
      "execution_count": 0,
      "outputs": [
        {
          "output_type": "execute_result",
          "data": {
            "text/plain": [
              "Pclass    False\n",
              "Sex       False\n",
              "Age        True\n",
              "SibSp     False\n",
              "Parch     False\n",
              "Fare       True\n",
              "dtype: bool"
            ]
          },
          "metadata": {
            "tags": []
          },
          "execution_count": 82
        }
      ]
    },
    {
      "cell_type": "code",
      "metadata": {
        "id": "1t_sALkPcyVM",
        "colab_type": "code",
        "outputId": "1c12cb61-a13d-42c9-db63-77d2ff1c0749",
        "colab": {
          "base_uri": "https://localhost:8080/",
          "height": 34
        }
      },
      "source": [
        "#Get the numpy arrays for test set\n",
        "testset = testset.iloc[:,:].values\n",
        "print(testset.shape)"
      ],
      "execution_count": 0,
      "outputs": [
        {
          "output_type": "stream",
          "text": [
            "(418, 6)\n"
          ],
          "name": "stdout"
        }
      ]
    },
    {
      "cell_type": "code",
      "metadata": {
        "id": "sWpPCAXIf1y2",
        "colab_type": "code",
        "colab": {}
      },
      "source": [
        ""
      ],
      "execution_count": 0,
      "outputs": []
    },
    {
      "cell_type": "code",
      "metadata": {
        "id": "MOiN7QqddLnS",
        "colab_type": "code",
        "colab": {}
      },
      "source": [
        "#label encode test set\n",
        "testset[:,1] = le.transform(testset[:,1])"
      ],
      "execution_count": 0,
      "outputs": []
    },
    {
      "cell_type": "code",
      "metadata": {
        "id": "GZ7uEojVd1lc",
        "colab_type": "code",
        "colab": {}
      },
      "source": [
        "#treat missing values\n",
        "testset = impt.fit_transform(testset)"
      ],
      "execution_count": 0,
      "outputs": []
    },
    {
      "cell_type": "code",
      "metadata": {
        "id": "2CIR6IbTeht9",
        "colab_type": "code",
        "colab": {}
      },
      "source": [
        "#feature scaling for test set\n",
        "testset = sc.transform(testset)"
      ],
      "execution_count": 0,
      "outputs": []
    },
    {
      "cell_type": "code",
      "metadata": {
        "id": "ucr8f77dfnj8",
        "colab_type": "code",
        "colab": {}
      },
      "source": [
        "#PCA for test set\n",
        "testset = pca.transform(testset)"
      ],
      "execution_count": 0,
      "outputs": []
    },
    {
      "cell_type": "code",
      "metadata": {
        "id": "hO3rdDFffZY2",
        "colab_type": "code",
        "colab": {}
      },
      "source": [
        "#predict\n",
        "testset_pred = model.predict(testset)"
      ],
      "execution_count": 0,
      "outputs": []
    },
    {
      "cell_type": "code",
      "metadata": {
        "id": "0DPZ1XfMfgAh",
        "colab_type": "code",
        "colab": {}
      },
      "source": [
        "#storing the result\n",
        "result_df=pd.DataFrame(testset_pred)\n",
        "result_df=pd.concat([testset_ids,result_df], axis=1,ignore_index=True)\n",
        "print(result_df)"
      ],
      "execution_count": 0,
      "outputs": []
    },
    {
      "cell_type": "code",
      "metadata": {
        "id": "WbG4pnSliaeN",
        "colab_type": "code",
        "colab": {}
      },
      "source": [
        "result_df.to_csv('out.csv')"
      ],
      "execution_count": 0,
      "outputs": []
    }
  ]
}